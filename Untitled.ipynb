{
 "cells": [
  {
   "cell_type": "code",
   "execution_count": 1,
   "id": "f5477b0b",
   "metadata": {
    "ExecuteTime": {
     "end_time": "2023-02-18T22:43:57.556087Z",
     "start_time": "2023-02-18T22:43:56.732918Z"
    }
   },
   "outputs": [],
   "source": [
    "import pandas as pd\n"
   ]
  },
  {
   "cell_type": "code",
   "execution_count": 7,
   "id": "434be011",
   "metadata": {
    "ExecuteTime": {
     "end_time": "2023-02-18T22:53:51.534901Z",
     "start_time": "2023-02-18T22:53:51.515637Z"
    }
   },
   "outputs": [],
   "source": [
    "df = pd.read_csv(\"batting2022.csv\")"
   ]
  },
  {
   "cell_type": "code",
   "execution_count": 8,
   "id": "480eabaf",
   "metadata": {
    "ExecuteTime": {
     "end_time": "2023-02-18T22:53:52.031118Z",
     "start_time": "2023-02-18T22:53:52.015654Z"
    }
   },
   "outputs": [
    {
     "data": {
      "text/html": [
       "<div>\n",
       "<style scoped>\n",
       "    .dataframe tbody tr th:only-of-type {\n",
       "        vertical-align: middle;\n",
       "    }\n",
       "\n",
       "    .dataframe tbody tr th {\n",
       "        vertical-align: top;\n",
       "    }\n",
       "\n",
       "    .dataframe thead th {\n",
       "        text-align: right;\n",
       "    }\n",
       "</style>\n",
       "<table border=\"1\" class=\"dataframe\">\n",
       "  <thead>\n",
       "    <tr style=\"text-align: right;\">\n",
       "      <th></th>\n",
       "      <th>#NAME?</th>\n",
       "    </tr>\n",
       "  </thead>\n",
       "  <tbody>\n",
       "    <tr>\n",
       "      <th>0</th>\n",
       "      <td>Rk,Name,Age,Tm,Lg,G,PA,AB,R,H,2B,3B,HR,RBI,SB,...</td>\n",
       "    </tr>\n",
       "    <tr>\n",
       "      <th>1</th>\n",
       "      <td>1,CJ Abrams*,21,TOT,NL,90,302,284,33,70,12,2,2...</td>\n",
       "    </tr>\n",
       "    <tr>\n",
       "      <th>2</th>\n",
       "      <td>2,CJ Abrams*,21,SDP,NL,46,139,125,16,29,5,0,2,...</td>\n",
       "    </tr>\n",
       "    <tr>\n",
       "      <th>3</th>\n",
       "      <td>3,CJ Abrams*,21,WSN,NL,44,163,159,17,41,7,2,0,...</td>\n",
       "    </tr>\n",
       "    <tr>\n",
       "      <th>4</th>\n",
       "      <td>4,Albert Abreu,26,TOT,AL,1,0,0,0,0,0,0,0,0,0,0...</td>\n",
       "    </tr>\n",
       "  </tbody>\n",
       "</table>\n",
       "</div>"
      ],
      "text/plain": [
       "                                              #NAME?\n",
       "0  Rk,Name,Age,Tm,Lg,G,PA,AB,R,H,2B,3B,HR,RBI,SB,...\n",
       "1  1,CJ Abrams*,21,TOT,NL,90,302,284,33,70,12,2,2...\n",
       "2  2,CJ Abrams*,21,SDP,NL,46,139,125,16,29,5,0,2,...\n",
       "3  3,CJ Abrams*,21,WSN,NL,44,163,159,17,41,7,2,0,...\n",
       "4  4,Albert Abreu,26,TOT,AL,1,0,0,0,0,0,0,0,0,0,0..."
      ]
     },
     "execution_count": 8,
     "metadata": {},
     "output_type": "execute_result"
    }
   ],
   "source": [
    "df.head()"
   ]
  },
  {
   "cell_type": "code",
   "execution_count": null,
   "id": "96241e80",
   "metadata": {},
   "outputs": [],
   "source": []
  }
 ],
 "metadata": {
  "kernelspec": {
   "display_name": "tutorialenv",
   "language": "python",
   "name": "tutorialenv"
  },
  "language_info": {
   "codemirror_mode": {
    "name": "ipython",
    "version": 3
   },
   "file_extension": ".py",
   "mimetype": "text/x-python",
   "name": "python",
   "nbconvert_exporter": "python",
   "pygments_lexer": "ipython3",
   "version": "3.9.7"
  }
 },
 "nbformat": 4,
 "nbformat_minor": 5
}
